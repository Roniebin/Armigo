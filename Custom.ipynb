{
 "cells": [
  {
   "cell_type": "markdown",
   "metadata": {},
   "source": [
    "python 3.10\n",
    "\n",
    "verbose = 0  (출력하지 않음 X)\n",
    "verbose = 1  (정보를 상세하게 출력함)\n",
    "verbose = 2  (정보를 함축적으로 출력함)"
   ]
  },
  {
   "cell_type": "code",
   "execution_count": 1,
   "metadata": {},
   "outputs": [
    {
     "name": "stdout",
     "output_type": "stream",
     "text": [
      "Requirement already satisfied: gymnasium==0.29.1 in c:\\users\\lenovo\\anaconda3\\envs\\panda306py310\\lib\\site-packages (0.29.1)\n",
      "Requirement already satisfied: numpy>=1.21.0 in c:\\users\\lenovo\\anaconda3\\envs\\panda306py310\\lib\\site-packages (from gymnasium==0.29.1) (1.26.4)\n",
      "Requirement already satisfied: cloudpickle>=1.2.0 in c:\\users\\lenovo\\anaconda3\\envs\\panda306py310\\lib\\site-packages (from gymnasium==0.29.1) (3.0.0)\n",
      "Requirement already satisfied: typing-extensions>=4.3.0 in c:\\users\\lenovo\\anaconda3\\envs\\panda306py310\\lib\\site-packages (from gymnasium==0.29.1) (4.11.0)\n",
      "Requirement already satisfied: farama-notifications>=0.0.1 in c:\\users\\lenovo\\anaconda3\\envs\\panda306py310\\lib\\site-packages (from gymnasium==0.29.1) (0.0.4)\n",
      "Note: you may need to restart the kernel to use updated packages.\n",
      "Requirement already satisfied: panda-gym==3.0.7 in c:\\users\\lenovo\\anaconda3\\envs\\panda306py310\\lib\\site-packages (3.0.7)\n",
      "Requirement already satisfied: gymnasium>=0.26 in c:\\users\\lenovo\\anaconda3\\envs\\panda306py310\\lib\\site-packages (from panda-gym==3.0.7) (0.29.1)\n",
      "Requirement already satisfied: pybullet in c:\\users\\lenovo\\anaconda3\\envs\\panda306py310\\lib\\site-packages (from panda-gym==3.0.7) (3.2.6)\n",
      "Requirement already satisfied: numpy in c:\\users\\lenovo\\anaconda3\\envs\\panda306py310\\lib\\site-packages (from panda-gym==3.0.7) (1.26.4)\n",
      "Requirement already satisfied: scipy in c:\\users\\lenovo\\anaconda3\\envs\\panda306py310\\lib\\site-packages (from panda-gym==3.0.7) (1.13.0)\n",
      "Requirement already satisfied: cloudpickle>=1.2.0 in c:\\users\\lenovo\\anaconda3\\envs\\panda306py310\\lib\\site-packages (from gymnasium>=0.26->panda-gym==3.0.7) (3.0.0)\n",
      "Requirement already satisfied: typing-extensions>=4.3.0 in c:\\users\\lenovo\\anaconda3\\envs\\panda306py310\\lib\\site-packages (from gymnasium>=0.26->panda-gym==3.0.7) (4.11.0)\n",
      "Requirement already satisfied: farama-notifications>=0.0.1 in c:\\users\\lenovo\\anaconda3\\envs\\panda306py310\\lib\\site-packages (from gymnasium>=0.26->panda-gym==3.0.7) (0.0.4)\n",
      "Note: you may need to restart the kernel to use updated packages.\n",
      "Requirement already satisfied: tensorboard in c:\\users\\lenovo\\anaconda3\\envs\\panda306py310\\lib\\site-packages (2.16.2)\n",
      "Requirement already satisfied: absl-py>=0.4 in c:\\users\\lenovo\\anaconda3\\envs\\panda306py310\\lib\\site-packages (from tensorboard) (2.1.0)\n",
      "Requirement already satisfied: grpcio>=1.48.2 in c:\\users\\lenovo\\anaconda3\\envs\\panda306py310\\lib\\site-packages (from tensorboard) (1.64.0)\n",
      "Requirement already satisfied: markdown>=2.6.8 in c:\\users\\lenovo\\anaconda3\\envs\\panda306py310\\lib\\site-packages (from tensorboard) (3.6)\n",
      "Requirement already satisfied: numpy>=1.12.0 in c:\\users\\lenovo\\anaconda3\\envs\\panda306py310\\lib\\site-packages (from tensorboard) (1.26.4)\n",
      "Requirement already satisfied: protobuf!=4.24.0,>=3.19.6 in c:\\users\\lenovo\\anaconda3\\envs\\panda306py310\\lib\\site-packages (from tensorboard) (5.27.0)\n",
      "Requirement already satisfied: setuptools>=41.0.0 in c:\\users\\lenovo\\anaconda3\\envs\\panda306py310\\lib\\site-packages (from tensorboard) (69.5.1)\n",
      "Requirement already satisfied: six>1.9 in c:\\users\\lenovo\\anaconda3\\envs\\panda306py310\\lib\\site-packages (from tensorboard) (1.16.0)\n",
      "Requirement already satisfied: tensorboard-data-server<0.8.0,>=0.7.0 in c:\\users\\lenovo\\anaconda3\\envs\\panda306py310\\lib\\site-packages (from tensorboard) (0.7.2)\n",
      "Requirement already satisfied: werkzeug>=1.0.1 in c:\\users\\lenovo\\anaconda3\\envs\\panda306py310\\lib\\site-packages (from tensorboard) (3.0.3)\n",
      "Requirement already satisfied: MarkupSafe>=2.1.1 in c:\\users\\lenovo\\anaconda3\\envs\\panda306py310\\lib\\site-packages (from werkzeug>=1.0.1->tensorboard) (2.1.5)\n",
      "Note: you may need to restart the kernel to use updated packages.\n"
     ]
    }
   ],
   "source": [
    "%pip install gymnasium==0.29.1\n",
    "%pip install panda-gym==3.0.7\n",
    "%pip install tensorboard\n",
    "# %pip install torch==2.0.1~2.2.0"
   ]
  },
  {
   "cell_type": "code",
   "execution_count": 2,
   "metadata": {},
   "outputs": [],
   "source": [
    "#%pip install stable-baselines3==2.2.1\n",
    "#%pip install sb3-contrib==2.2.1\n",
    "#%pip install rl-zoo3==2.2.1"
   ]
  },
  {
   "cell_type": "code",
   "execution_count": 3,
   "metadata": {},
   "outputs": [],
   "source": [
    "#%pip install stable-baselines3==2.1.0\n",
    "#%pip install sb3-contrib==2.1.0\n",
    "#%pip install rl-zoo3==2.1.0"
   ]
  },
  {
   "cell_type": "code",
   "execution_count": 4,
   "metadata": {},
   "outputs": [
    {
     "name": "stdout",
     "output_type": "stream",
     "text": [
      "Logging to /tmp/sb3_log/\n",
      "Reset Object object_0 Position: [-0.06151263 -0.04055677  0.        ]\n",
      "Reset Object object_1 Position: [-0.11371249  0.05092675  0.        ]\n",
      "Reset Target target_0 Position: [0.00546838 0.00264519 0.18307725]\n",
      "Reset Target target_1 Position: [0.12250267 0.03671964 0.01942461]\n",
      "Checking success for [-0.06151263 -0.04055677  0.        ] to [0.00546838 0.00264519 0.18307725]: 0.19967509459763275 (Threshold: 0.05)\n",
      "Checking success for [-0.11371249  0.05092675  0.        ] to [0.12250267 0.03671964 0.01942461]: 0.23743790375592436 (Threshold: 0.05)\n",
      "Using cpu device\n",
      "Wrapping the env with a `Monitor` wrapper\n",
      "Wrapping the env in a DummyVecEnv.\n"
     ]
    },
    {
     "ename": "ValueError",
     "evalue": "high <= 0",
     "output_type": "error",
     "traceback": [
      "\u001b[1;31m---------------------------------------------------------------------------\u001b[0m",
      "\u001b[1;31mValueError\u001b[0m                                Traceback (most recent call last)",
      "Cell \u001b[1;32mIn[4], line 18\u001b[0m\n\u001b[0;32m     16\u001b[0m model \u001b[38;5;241m=\u001b[39m TQC(policy\u001b[38;5;241m=\u001b[39m\u001b[38;5;124m\"\u001b[39m\u001b[38;5;124mMultiInputPolicy\u001b[39m\u001b[38;5;124m\"\u001b[39m, env\u001b[38;5;241m=\u001b[39menv, verbose\u001b[38;5;241m=\u001b[39m\u001b[38;5;241m1\u001b[39m)\n\u001b[0;32m     17\u001b[0m model\u001b[38;5;241m.\u001b[39mset_logger(new_logger)\n\u001b[1;32m---> 18\u001b[0m \u001b[43mmodel\u001b[49m\u001b[38;5;241;43m.\u001b[39;49m\u001b[43mtrain\u001b[49m\u001b[43m(\u001b[49m\u001b[38;5;241;43m10_000\u001b[39;49m\u001b[43m)\u001b[49m\n\u001b[0;32m     19\u001b[0m model\u001b[38;5;241m.\u001b[39msave(\u001b[38;5;124m\"\u001b[39m\u001b[38;5;124mppap\u001b[39m\u001b[38;5;124m\"\u001b[39m)\n",
      "File \u001b[1;32mc:\\Users\\Lenovo\\anaconda3\\envs\\panda306py310\\lib\\site-packages\\sb3_contrib\\tqc\\tqc.py:209\u001b[0m, in \u001b[0;36mTQC.train\u001b[1;34m(self, gradient_steps, batch_size)\u001b[0m\n\u001b[0;32m    205\u001b[0m actor_losses, critic_losses \u001b[38;5;241m=\u001b[39m [], []\n\u001b[0;32m    207\u001b[0m \u001b[38;5;28;01mfor\u001b[39;00m gradient_step \u001b[38;5;129;01min\u001b[39;00m \u001b[38;5;28mrange\u001b[39m(gradient_steps):\n\u001b[0;32m    208\u001b[0m     \u001b[38;5;66;03m# Sample replay buffer\u001b[39;00m\n\u001b[1;32m--> 209\u001b[0m     replay_data \u001b[38;5;241m=\u001b[39m \u001b[38;5;28;43mself\u001b[39;49m\u001b[38;5;241;43m.\u001b[39;49m\u001b[43mreplay_buffer\u001b[49m\u001b[38;5;241;43m.\u001b[39;49m\u001b[43msample\u001b[49m\u001b[43m(\u001b[49m\u001b[43mbatch_size\u001b[49m\u001b[43m,\u001b[49m\u001b[43m \u001b[49m\u001b[43menv\u001b[49m\u001b[38;5;241;43m=\u001b[39;49m\u001b[38;5;28;43mself\u001b[39;49m\u001b[38;5;241;43m.\u001b[39;49m\u001b[43m_vec_normalize_env\u001b[49m\u001b[43m)\u001b[49m  \u001b[38;5;66;03m# type: ignore[union-attr]\u001b[39;00m\n\u001b[0;32m    211\u001b[0m     \u001b[38;5;66;03m# We need to sample because `log_std` may have changed between two gradient steps\u001b[39;00m\n\u001b[0;32m    212\u001b[0m     \u001b[38;5;28;01mif\u001b[39;00m \u001b[38;5;28mself\u001b[39m\u001b[38;5;241m.\u001b[39muse_sde:\n",
      "File \u001b[1;32mc:\\Users\\Lenovo\\anaconda3\\envs\\panda306py310\\lib\\site-packages\\stable_baselines3\\common\\buffers.py:645\u001b[0m, in \u001b[0;36mDictReplayBuffer.sample\u001b[1;34m(self, batch_size, env)\u001b[0m\n\u001b[0;32m    632\u001b[0m \u001b[38;5;28;01mdef\u001b[39;00m \u001b[38;5;21msample\u001b[39m(\n\u001b[0;32m    633\u001b[0m     \u001b[38;5;28mself\u001b[39m,\n\u001b[0;32m    634\u001b[0m     batch_size: \u001b[38;5;28mint\u001b[39m,\n\u001b[0;32m    635\u001b[0m     env: Optional[VecNormalize] \u001b[38;5;241m=\u001b[39m \u001b[38;5;28;01mNone\u001b[39;00m,\n\u001b[0;32m    636\u001b[0m ) \u001b[38;5;241m-\u001b[39m\u001b[38;5;241m>\u001b[39m DictReplayBufferSamples:  \u001b[38;5;66;03m# type: ignore[signature-mismatch] #FIXME:\u001b[39;00m\n\u001b[0;32m    637\u001b[0m \u001b[38;5;250m    \u001b[39m\u001b[38;5;124;03m\"\"\"\u001b[39;00m\n\u001b[0;32m    638\u001b[0m \u001b[38;5;124;03m    Sample elements from the replay buffer.\u001b[39;00m\n\u001b[0;32m    639\u001b[0m \n\u001b[1;32m   (...)\u001b[0m\n\u001b[0;32m    643\u001b[0m \u001b[38;5;124;03m    :return:\u001b[39;00m\n\u001b[0;32m    644\u001b[0m \u001b[38;5;124;03m    \"\"\"\u001b[39;00m\n\u001b[1;32m--> 645\u001b[0m     \u001b[38;5;28;01mreturn\u001b[39;00m \u001b[38;5;28;43msuper\u001b[39;49m\u001b[43m(\u001b[49m\u001b[43mReplayBuffer\u001b[49m\u001b[43m,\u001b[49m\u001b[43m \u001b[49m\u001b[38;5;28;43mself\u001b[39;49m\u001b[43m)\u001b[49m\u001b[38;5;241;43m.\u001b[39;49m\u001b[43msample\u001b[49m\u001b[43m(\u001b[49m\u001b[43mbatch_size\u001b[49m\u001b[38;5;241;43m=\u001b[39;49m\u001b[43mbatch_size\u001b[49m\u001b[43m,\u001b[49m\u001b[43m \u001b[49m\u001b[43menv\u001b[49m\u001b[38;5;241;43m=\u001b[39;49m\u001b[43menv\u001b[49m\u001b[43m)\u001b[49m\n",
      "File \u001b[1;32mc:\\Users\\Lenovo\\anaconda3\\envs\\panda306py310\\lib\\site-packages\\stable_baselines3\\common\\buffers.py:110\u001b[0m, in \u001b[0;36mBaseBuffer.sample\u001b[1;34m(self, batch_size, env)\u001b[0m\n\u001b[0;32m    103\u001b[0m \u001b[38;5;250m\u001b[39m\u001b[38;5;124;03m\"\"\"\u001b[39;00m\n\u001b[0;32m    104\u001b[0m \u001b[38;5;124;03m:param batch_size: Number of element to sample\u001b[39;00m\n\u001b[0;32m    105\u001b[0m \u001b[38;5;124;03m:param env: associated gym VecEnv\u001b[39;00m\n\u001b[0;32m    106\u001b[0m \u001b[38;5;124;03m    to normalize the observations/rewards when sampling\u001b[39;00m\n\u001b[0;32m    107\u001b[0m \u001b[38;5;124;03m:return:\u001b[39;00m\n\u001b[0;32m    108\u001b[0m \u001b[38;5;124;03m\"\"\"\u001b[39;00m\n\u001b[0;32m    109\u001b[0m upper_bound \u001b[38;5;241m=\u001b[39m \u001b[38;5;28mself\u001b[39m\u001b[38;5;241m.\u001b[39mbuffer_size \u001b[38;5;28;01mif\u001b[39;00m \u001b[38;5;28mself\u001b[39m\u001b[38;5;241m.\u001b[39mfull \u001b[38;5;28;01melse\u001b[39;00m \u001b[38;5;28mself\u001b[39m\u001b[38;5;241m.\u001b[39mpos\n\u001b[1;32m--> 110\u001b[0m batch_inds \u001b[38;5;241m=\u001b[39m \u001b[43mnp\u001b[49m\u001b[38;5;241;43m.\u001b[39;49m\u001b[43mrandom\u001b[49m\u001b[38;5;241;43m.\u001b[39;49m\u001b[43mrandint\u001b[49m\u001b[43m(\u001b[49m\u001b[38;5;241;43m0\u001b[39;49m\u001b[43m,\u001b[49m\u001b[43m \u001b[49m\u001b[43mupper_bound\u001b[49m\u001b[43m,\u001b[49m\u001b[43m \u001b[49m\u001b[43msize\u001b[49m\u001b[38;5;241;43m=\u001b[39;49m\u001b[43mbatch_size\u001b[49m\u001b[43m)\u001b[49m\n\u001b[0;32m    111\u001b[0m \u001b[38;5;28;01mreturn\u001b[39;00m \u001b[38;5;28mself\u001b[39m\u001b[38;5;241m.\u001b[39m_get_samples(batch_inds, env\u001b[38;5;241m=\u001b[39menv)\n",
      "File \u001b[1;32mnumpy\\\\random\\\\mtrand.pyx:780\u001b[0m, in \u001b[0;36mnumpy.random.mtrand.RandomState.randint\u001b[1;34m()\u001b[0m\n",
      "File \u001b[1;32mnumpy\\\\random\\\\_bounded_integers.pyx:2885\u001b[0m, in \u001b[0;36mnumpy.random._bounded_integers._rand_int32\u001b[1;34m()\u001b[0m\n",
      "\u001b[1;31mValueError\u001b[0m: high <= 0"
     ]
    }
   ],
   "source": [
    "import panda_gym\n",
    "import sys\n",
    "import gymnasium\n",
    "sys.modules[\"gym\"] = gymnasium\n",
    "# from stable_baselines3 import DDPG\n",
    "from sb3_contrib import TQC\n",
    "from stable_baselines3.common.logger import configure\n",
    "\n",
    "# set up logger\n",
    "tmp_path = \"/tmp/sb3_log/\"\n",
    "new_logger = configure(tmp_path, [\"stdout\", \"csv\", \"tensorboard\"])\n",
    "\n",
    "\n",
    "env = gymnasium.make(\"PandaPickAndPlace-v3\")\n",
    "\n",
    "model = TQC(policy=\"MultiInputPolicy\", env=env, verbose=1)\n",
    "model.set_logger(new_logger)\n",
    "model.train(10_000)\n",
    "model.save(\"ppap\")"
   ]
  }
 ],
 "metadata": {
  "kernelspec": {
   "display_name": "gym310",
   "language": "python",
   "name": "python3"
  },
  "language_info": {
   "codemirror_mode": {
    "name": "ipython",
    "version": 3
   },
   "file_extension": ".py",
   "mimetype": "text/x-python",
   "name": "python",
   "nbconvert_exporter": "python",
   "pygments_lexer": "ipython3",
   "version": "3.10.14"
  }
 },
 "nbformat": 4,
 "nbformat_minor": 2
}
