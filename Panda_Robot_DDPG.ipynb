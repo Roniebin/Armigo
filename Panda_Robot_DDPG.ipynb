{
  "metadata": {
    "kernelspec": {
      "display_name": "Python 3",
      "name": "python3"
    },
    "language_info": {
      "pygments_lexer": "ipython3",
      "nbconvert_exporter": "python",
      "version": "3.6.4",
      "file_extension": ".py",
      "codemirror_mode": {
        "name": "ipython",
        "version": 3
      },
      "name": "python",
      "mimetype": "text/x-python"
    },
    "colab": {
      "name": "Panda Robot - DDPG",
      "provenance": [],
      "gpuType": "T4",
      "include_colab_link": true
    },
    "accelerator": "GPU"
  },
  "nbformat_minor": 0,
  "nbformat": 4,
  "cells": [
    {
      "cell_type": "markdown",
      "metadata": {
        "id": "view-in-github",
        "colab_type": "text"
      },
      "source": [
        "<a href=\"https://colab.research.google.com/github/Roniebin/Armigo/blob/mingyu/Panda_Robot_DDPG.ipynb\" target=\"_parent\"><img src=\"https://colab.research.google.com/assets/colab-badge.svg\" alt=\"Open In Colab\"/></a>"
      ]
    },
    {
      "cell_type": "markdown",
      "source": [
        "# Robot Reacher Task using DDPG\n",
        "\n",
        "Robot Environment: https://panda-gym.readthedocs.io/en/latest/"
      ],
      "metadata": {
        "id": "FEQn5sukLcUr"
      }
    },
    {
      "cell_type": "markdown",
      "source": [
        "# Utils\n",
        "\n",
        "To view the simulation"
      ],
      "metadata": {
        "id": "8qgNeaaKLcUt"
      }
    },
    {
      "cell_type": "code",
      "source": [
        "!apt install -y python-opengl ffmpeg > /dev/null 2>&1\n",
        "%pip install pyvirtualdisplay panda-gym==2.0.0 stable_baselines3 sb3_contrib"
      ],
      "metadata": {
        "execution": {
          "iopub.status.busy": "2022-06-16T04:37:27.044127Z",
          "iopub.execute_input": "2022-06-16T04:37:27.045105Z",
          "iopub.status.idle": "2022-06-16T04:38:01.047812Z",
          "shell.execute_reply.started": "2022-06-16T04:37:27.044955Z",
          "shell.execute_reply": "2022-06-16T04:38:01.046594Z"
        },
        "trusted": true,
        "id": "P8KEC-pDLcUt",
        "outputId": "ee3ec96a-e2d5-464e-e3f4-5a4e4d34fb9a",
        "colab": {
          "base_uri": "https://localhost:8080/"
        }
      },
      "execution_count": null,
      "outputs": [
        {
          "output_type": "stream",
          "name": "stdout",
          "text": [
            "Collecting pyvirtualdisplay\n",
            "  Downloading PyVirtualDisplay-3.0-py3-none-any.whl (15 kB)\n",
            "Collecting panda-gym==2.0.0\n",
            "  Downloading panda_gym-2.0.0-py3-none-any.whl (26 kB)\n",
            "Collecting stable_baselines3\n",
            "  Downloading stable_baselines3-2.3.0-py3-none-any.whl (182 kB)\n",
            "\u001b[2K     \u001b[90m━━━━━━━━━━━━━━━━━━━━━━━━━━━━━━━━━━━━━━━━\u001b[0m \u001b[32m182.1/182.1 kB\u001b[0m \u001b[31m2.5 MB/s\u001b[0m eta \u001b[36m0:00:00\u001b[0m\n",
            "\u001b[?25hCollecting sb3_contrib\n",
            "  Downloading sb3_contrib-2.3.0-py3-none-any.whl (80 kB)\n",
            "\u001b[2K     \u001b[90m━━━━━━━━━━━━━━━━━━━━━━━━━━━━━━━━━━━━━━━━\u001b[0m \u001b[32m80.3/80.3 kB\u001b[0m \u001b[31m9.5 MB/s\u001b[0m eta \u001b[36m0:00:00\u001b[0m\n",
            "\u001b[?25hRequirement already satisfied: gym in /usr/local/lib/python3.10/dist-packages (from panda-gym==2.0.0) (0.25.2)\n",
            "Collecting pybullet (from panda-gym==2.0.0)\n",
            "  Downloading pybullet-3.2.6-cp310-cp310-manylinux_2_17_x86_64.manylinux2014_x86_64.whl (103.2 MB)\n",
            "\u001b[2K     \u001b[90m━━━━━━━━━━━━━━━━━━━━━━━━━━━━━━━━━━━━━━━━\u001b[0m \u001b[32m103.2/103.2 MB\u001b[0m \u001b[31m8.1 MB/s\u001b[0m eta \u001b[36m0:00:00\u001b[0m\n",
            "\u001b[?25hRequirement already satisfied: numpy in /usr/local/lib/python3.10/dist-packages (from panda-gym==2.0.0) (1.25.2)\n",
            "Requirement already satisfied: scipy in /usr/local/lib/python3.10/dist-packages (from panda-gym==2.0.0) (1.11.4)\n",
            "Collecting gymnasium<0.30,>=0.28.1 (from stable_baselines3)\n",
            "  Downloading gymnasium-0.29.1-py3-none-any.whl (953 kB)\n",
            "\u001b[2K     \u001b[90m━━━━━━━━━━━━━━━━━━━━━━━━━━━━━━━━━━━━━━━━\u001b[0m \u001b[32m953.9/953.9 kB\u001b[0m \u001b[31m76.8 MB/s\u001b[0m eta \u001b[36m0:00:00\u001b[0m\n",
            "\u001b[?25hRequirement already satisfied: torch>=1.13 in /usr/local/lib/python3.10/dist-packages (from stable_baselines3) (2.2.1+cu121)\n",
            "Requirement already satisfied: cloudpickle in /usr/local/lib/python3.10/dist-packages (from stable_baselines3) (2.2.1)\n",
            "Requirement already satisfied: pandas in /usr/local/lib/python3.10/dist-packages (from stable_baselines3) (2.0.3)\n",
            "Requirement already satisfied: matplotlib in /usr/local/lib/python3.10/dist-packages (from stable_baselines3) (3.7.1)\n",
            "Requirement already satisfied: typing-extensions>=4.3.0 in /usr/local/lib/python3.10/dist-packages (from gymnasium<0.30,>=0.28.1->stable_baselines3) (4.11.0)\n",
            "Collecting farama-notifications>=0.0.1 (from gymnasium<0.30,>=0.28.1->stable_baselines3)\n",
            "  Downloading Farama_Notifications-0.0.4-py3-none-any.whl (2.5 kB)\n",
            "Requirement already satisfied: filelock in /usr/local/lib/python3.10/dist-packages (from torch>=1.13->stable_baselines3) (3.13.4)\n",
            "Requirement already satisfied: sympy in /usr/local/lib/python3.10/dist-packages (from torch>=1.13->stable_baselines3) (1.12)\n",
            "Requirement already satisfied: networkx in /usr/local/lib/python3.10/dist-packages (from torch>=1.13->stable_baselines3) (3.3)\n",
            "Requirement already satisfied: jinja2 in /usr/local/lib/python3.10/dist-packages (from torch>=1.13->stable_baselines3) (3.1.3)\n",
            "Requirement already satisfied: fsspec in /usr/local/lib/python3.10/dist-packages (from torch>=1.13->stable_baselines3) (2023.6.0)\n",
            "Collecting nvidia-cuda-nvrtc-cu12==12.1.105 (from torch>=1.13->stable_baselines3)\n",
            "  Using cached nvidia_cuda_nvrtc_cu12-12.1.105-py3-none-manylinux1_x86_64.whl (23.7 MB)\n",
            "Collecting nvidia-cuda-runtime-cu12==12.1.105 (from torch>=1.13->stable_baselines3)\n",
            "  Using cached nvidia_cuda_runtime_cu12-12.1.105-py3-none-manylinux1_x86_64.whl (823 kB)\n",
            "Collecting nvidia-cuda-cupti-cu12==12.1.105 (from torch>=1.13->stable_baselines3)\n",
            "  Using cached nvidia_cuda_cupti_cu12-12.1.105-py3-none-manylinux1_x86_64.whl (14.1 MB)\n",
            "Collecting nvidia-cudnn-cu12==8.9.2.26 (from torch>=1.13->stable_baselines3)\n",
            "  Using cached nvidia_cudnn_cu12-8.9.2.26-py3-none-manylinux1_x86_64.whl (731.7 MB)\n",
            "Collecting nvidia-cublas-cu12==12.1.3.1 (from torch>=1.13->stable_baselines3)\n",
            "  Using cached nvidia_cublas_cu12-12.1.3.1-py3-none-manylinux1_x86_64.whl (410.6 MB)\n",
            "Collecting nvidia-cufft-cu12==11.0.2.54 (from torch>=1.13->stable_baselines3)\n",
            "  Using cached nvidia_cufft_cu12-11.0.2.54-py3-none-manylinux1_x86_64.whl (121.6 MB)\n",
            "Collecting nvidia-curand-cu12==10.3.2.106 (from torch>=1.13->stable_baselines3)\n",
            "  Using cached nvidia_curand_cu12-10.3.2.106-py3-none-manylinux1_x86_64.whl (56.5 MB)\n",
            "Collecting nvidia-cusolver-cu12==11.4.5.107 (from torch>=1.13->stable_baselines3)\n",
            "  Using cached nvidia_cusolver_cu12-11.4.5.107-py3-none-manylinux1_x86_64.whl (124.2 MB)\n",
            "Collecting nvidia-cusparse-cu12==12.1.0.106 (from torch>=1.13->stable_baselines3)\n"
          ]
        }
      ]
    },
    {
      "cell_type": "code",
      "source": [
        "from pyvirtualdisplay import Display\n",
        "display = Display(visible=0, size=(1024, 768))\n",
        "display.start()\n",
        "\n",
        "\n",
        "from matplotlib import pyplot as plt, animation\n",
        "%matplotlib inline\n",
        "from IPython import display\n",
        "\n",
        "def create_anim(frames, dpi, fps):\n",
        "    plt.figure(figsize=(frames[0].shape[1] / dpi, frames[0].shape[0] / dpi), dpi=dpi)\n",
        "    patch = plt.imshow(frames[0])\n",
        "    def setup():\n",
        "        plt.axis('off')\n",
        "    def animate(i):\n",
        "        patch.set_data(frames[i])\n",
        "    anim = animation.FuncAnimation(plt.gcf(), animate, init_func=setup, frames=len(frames), interval=fps)\n",
        "    return anim\n",
        "\n",
        "def display_anim(frames, dpi=72, fps=50):\n",
        "    anim = create_anim(frames, dpi, fps)\n",
        "    return anim.to_jshtml()\n",
        "\n",
        "def save_anim(frames, filename, dpi=72, fps=50):\n",
        "    anim = create_anim(frames, dpi, fps)\n",
        "    anim.save(filename)\n",
        "\n",
        "\n",
        "class trigger:\n",
        "    def __init__(self):\n",
        "        self._trigger = True\n",
        "\n",
        "    def __call__(self, e):\n",
        "        return self._trigger\n",
        "\n",
        "    def set(self, t):\n",
        "        self._trigger = t"
      ],
      "metadata": {
        "execution": {
          "iopub.status.busy": "2022-06-16T04:38:01.049656Z",
          "iopub.execute_input": "2022-06-16T04:38:01.050061Z",
          "iopub.status.idle": "2022-06-16T04:38:01.491439Z",
          "shell.execute_reply.started": "2022-06-16T04:38:01.050011Z",
          "shell.execute_reply": "2022-06-16T04:38:01.490199Z"
        },
        "trusted": true,
        "id": "feeak7rQLcUu"
      },
      "execution_count": null,
      "outputs": []
    },
    {
      "cell_type": "markdown",
      "source": [
        "# Robot Environment"
      ],
      "metadata": {
        "id": "eI2sWX0xLcUu"
      }
    },
    {
      "cell_type": "code",
      "source": [
        "import gym\n",
        "import panda_gym\n",
        "import pprint\n",
        "\n",
        "env = gym.make('PandaReach-v2')"
      ],
      "metadata": {
        "execution": {
          "iopub.status.busy": "2022-06-16T04:38:01.492992Z",
          "iopub.execute_input": "2022-06-16T04:38:01.493368Z",
          "iopub.status.idle": "2022-06-16T04:38:02.319579Z",
          "shell.execute_reply.started": "2022-06-16T04:38:01.493327Z",
          "shell.execute_reply": "2022-06-16T04:38:02.318604Z"
        },
        "trusted": true,
        "id": "UZlqLrsbLcUu"
      },
      "execution_count": null,
      "outputs": []
    },
    {
      "cell_type": "code",
      "source": [
        "obs = env.reset()\n",
        "print(obs)"
      ],
      "metadata": {
        "execution": {
          "iopub.status.busy": "2022-06-16T04:38:02.321269Z",
          "iopub.execute_input": "2022-06-16T04:38:02.321573Z",
          "iopub.status.idle": "2022-06-16T04:38:02.330049Z",
          "shell.execute_reply.started": "2022-06-16T04:38:02.321547Z",
          "shell.execute_reply": "2022-06-16T04:38:02.329133Z"
        },
        "trusted": true,
        "id": "VRirEt8uLcUu"
      },
      "execution_count": null,
      "outputs": []
    },
    {
      "cell_type": "code",
      "source": [
        "frames = []\n",
        "\n",
        "obs = env.reset()\n",
        "done = False\n",
        "\n",
        "while not done:\n",
        "    current_position = obs[\"observation\"][0:3]\n",
        "    desired_position = obs[\"desired_goal\"][0:3]\n",
        "    action = 5.0 * (desired_position - current_position)\n",
        "    frames.append(env.render(mode = 'rgb_array'))\n",
        "    obs, reward, done, info = env.step(action)\n",
        "\n",
        "env.close()"
      ],
      "metadata": {
        "execution": {
          "iopub.status.busy": "2022-06-16T04:38:02.331236Z",
          "iopub.execute_input": "2022-06-16T04:38:02.332304Z",
          "iopub.status.idle": "2022-06-16T04:38:09.134684Z",
          "shell.execute_reply.started": "2022-06-16T04:38:02.332256Z",
          "shell.execute_reply": "2022-06-16T04:38:09.13389Z"
        },
        "trusted": true,
        "id": "sP_KXj8PLcUv"
      },
      "execution_count": null,
      "outputs": []
    },
    {
      "cell_type": "code",
      "source": [
        "display.HTML(display_anim(frames))"
      ],
      "metadata": {
        "execution": {
          "iopub.status.busy": "2022-06-16T04:38:09.135743Z",
          "iopub.execute_input": "2022-06-16T04:38:09.136256Z",
          "iopub.status.idle": "2022-06-16T04:38:13.569049Z",
          "shell.execute_reply.started": "2022-06-16T04:38:09.13622Z",
          "shell.execute_reply": "2022-06-16T04:38:13.56805Z"
        },
        "trusted": true,
        "id": "q9h3NBYZLcUv"
      },
      "execution_count": null,
      "outputs": []
    },
    {
      "cell_type": "markdown",
      "source": [
        "# DDPG - Deep Deterministic Policy Gradient"
      ],
      "metadata": {
        "id": "zj__T50CLcUv"
      }
    },
    {
      "cell_type": "markdown",
      "source": [
        "## Training"
      ],
      "metadata": {
        "id": "Gp49KZnWLcUv"
      }
    },
    {
      "cell_type": "code",
      "source": [
        "import gym\n",
        "import panda_gym\n",
        "import numpy as np\n",
        "from stable_baselines3 import DDPG, HerReplayBuffer\n",
        "from stable_baselines3 .common.noise import NormalActionNoise\n",
        "from sb3_contrib.common.wrappers import TimeFeatureWrapper\n",
        "\n",
        "rb_kwargs = {'online_sampling' : True,\n",
        "             'goal_selection_strategy' : 'future',\n",
        "             'n_sampled_goal' : 4}\n",
        "\n",
        "policy_kwargs = {'net_arch' : [512, 512, 512],\n",
        "                 'n_critics' : 2}\n",
        "\n",
        "n_actions = env.action_space.shape[0]\n",
        "noise = NormalActionNoise(mean = np.zeros(n_actions), sigma = 0.1 * np.ones(n_actions))\n",
        "\n",
        "env = gym.make(\"PandaReach-v2\")\n",
        "env = TimeFeatureWrapper(env)\n",
        "\n",
        "model = DDPG(policy=\"MultiInputPolicy\", env=env, replay_buffer_class=HerReplayBuffer, verbose=1,\n",
        "             gamma = 0.95, batch_size= 2048, buffer_size=100000, replay_buffer_kwargs = rb_kwargs,\n",
        "             learning_rate = 1e-3, action_noise = noise, policy_kwargs = policy_kwargs)\n",
        "model.learn(1e6)\n",
        "model.save('pick_place/model')"
      ],
      "metadata": {
        "execution": {
          "iopub.status.busy": "2022-06-16T04:38:13.570387Z",
          "iopub.execute_input": "2022-06-16T04:38:13.570701Z",
          "iopub.status.idle": "2022-06-16T04:38:39.579063Z",
          "shell.execute_reply.started": "2022-06-16T04:38:13.570667Z",
          "shell.execute_reply": "2022-06-16T04:38:39.57793Z"
        },
        "trusted": true,
        "id": "stcLPjoKLcUv"
      },
      "execution_count": null,
      "outputs": []
    },
    {
      "cell_type": "markdown",
      "source": [
        "## Testing"
      ],
      "metadata": {
        "id": "sCzCr8SWLcUv"
      }
    },
    {
      "cell_type": "code",
      "source": [
        "model = DDPG.load(\"pick_place/model\", env = env)\n",
        "\n",
        "frames = []\n",
        "for _ in range(10):\n",
        "    done = False\n",
        "    observation = env.reset()\n",
        "    while not done:\n",
        "        action, _states = model.predict(observation, deterministic = True)\n",
        "        observation, reward, done, info = env.step(action)\n",
        "        frame = env.render(mode='rgb_array')\n",
        "        frames.append(frame)\n",
        "\n",
        "env.close()"
      ],
      "metadata": {
        "execution": {
          "iopub.status.busy": "2022-06-16T04:38:39.579843Z",
          "iopub.status.idle": "2022-06-16T04:38:39.580215Z",
          "shell.execute_reply.started": "2022-06-16T04:38:39.580047Z",
          "shell.execute_reply": "2022-06-16T04:38:39.580065Z"
        },
        "trusted": true,
        "id": "uPwC159OLcUw"
      },
      "execution_count": null,
      "outputs": []
    },
    {
      "cell_type": "code",
      "source": [
        "display.HTML(display_anim(frames))"
      ],
      "metadata": {
        "execution": {
          "iopub.status.busy": "2022-06-16T04:38:39.581158Z",
          "iopub.status.idle": "2022-06-16T04:38:39.581463Z",
          "shell.execute_reply.started": "2022-06-16T04:38:39.58132Z",
          "shell.execute_reply": "2022-06-16T04:38:39.581334Z"
        },
        "trusted": true,
        "id": "M9FvAoggLcUw"
      },
      "execution_count": null,
      "outputs": []
    },
    {
      "cell_type": "code",
      "source": [],
      "metadata": {
        "id": "wNMogTYfLcUw"
      },
      "execution_count": null,
      "outputs": []
    }
  ]
}